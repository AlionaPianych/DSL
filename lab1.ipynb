{
  "nbformat": 4,
  "nbformat_minor": 0,
  "metadata": {
    "colab": {
      "name": "Untitled1.ipynb",
      "provenance": [],
      "authorship_tag": "ABX9TyMlIjycOhaRgnx4XYdb3jsK",
      "include_colab_link": true
    },
    "kernelspec": {
      "name": "python3",
      "display_name": "Python 3"
    },
    "language_info": {
      "name": "python"
    }
  },
  "cells": [
    {
      "cell_type": "markdown",
      "metadata": {
        "id": "view-in-github",
        "colab_type": "text"
      },
      "source": [
        "<a href=\"https://colab.research.google.com/github/AlionaPianych/DSL/blob/main/lab1.ipynb\" target=\"_parent\"><img src=\"https://colab.research.google.com/assets/colab-badge.svg\" alt=\"Open In Colab\"/></a>"
      ]
    },
    {
      "cell_type": "code",
      "execution_count": null,
      "metadata": {
        "id": "heAJn9_QItMx"
      },
      "outputs": [],
      "source": [
        "def reduce_step(accumulator: (set, list, str), current_char: str) -> (set, list, str):\n",
        "  whitespaces, rows, current_word = accumulator\n",
        "  if current_char in whitespaces:\n",
        "    if current_word:\n",
        "      return (whitespaces, rows + [current_word], '')\n",
        "    else:\n",
        "      return (whitespaces, rows, '')\n",
        "  else:\n",
        "    return (whitespaces, rows, current_word + current_char)"
      ]
    },
    {
      "cell_type": "markdown",
      "source": [
        "В первом блоке я объясняю вспомогательную функцию, а во втором - фактическую функцию, которая разбивает текст на строки. reduce_step - это функция, которая принимает 2 аргумента, где первый аргумент - аккумулятор, в котором мы храним текущее состояние сбора отдельных строк и текущий символ из строки. Аккумулятор содержит набор пробелов, текущий список строк и последнее слово, которого нет в списке строк. На каждом шаге сокращения мы проверяем, является ли наш символ пробелом или нет. Если это не так - мы просто добавляем его в конец нашего текущего сформированного слова. Если это так - мы добавляем собранное слово в строки, если оно не пустое (это означает, что предыдущий символ также был пробелом или текущий символ является первым в тексте). Функция возвращает новое значение аккумулятора, которое будет применено к следующей итерации сокращения, или будет возвращено в результате сокращения, если последним был текущий символ."
      ],
      "metadata": {
        "id": "ePwuMkfNIzee"
      }
    },
    {
      "cell_type": "code",
      "source": [
        "from functools import reduce\n",
        "\n",
        "def split_text(text: str, whitespaces: set) -> str:\n",
        "  _, rows, last_word = reduce(reduce_step, text, (whitespaces, [], ''))\n",
        "  if last_word:\n",
        "    rows.append(last_word)\n",
        "  return rows\n"
      ],
      "metadata": {
        "id": "bbaNqE6OI3aS"
      },
      "execution_count": null,
      "outputs": []
    },
    {
      "cell_type": "markdown",
      "source": [
        "split_text - это функция, которая последовательно применяет предыдущий reduce_step к каждому символу текста, передавая рассчитанный на предыдущем шаге аккумулятор и текущий символ. После последней итерации мы получаем список строк, последнего слова и пробелов, которые являются постоянными, поэтому мы просто пропускаем его. Если последнее слово не пустое, мы добавляем его в строки и возвращаем их. Перед первым шагом мы устанавливаем значение базового аккумулятора как набор пробелов, пустых строк и пустого последнего слова.\n"
      ],
      "metadata": {
        "id": "Qttt3OqjI904"
      }
    }
  ]
}