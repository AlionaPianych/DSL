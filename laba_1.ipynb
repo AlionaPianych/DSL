{
  "nbformat": 4,
  "nbformat_minor": 0,
  "metadata": {
    "colab": {
      "name": "Untitled0.ipynb",
      "provenance": [],
      "authorship_tag": "ABX9TyO5a1NSQ/RY++ok8uIqajzg",
      "include_colab_link": true
    },
    "kernelspec": {
      "name": "python3",
      "display_name": "Python 3"
    },
    "language_info": {
      "name": "python"
    }
  },
  "cells": [
    {
      "cell_type": "markdown",
      "metadata": {
        "id": "view-in-github",
        "colab_type": "text"
      },
      "source": [
        "<a href=\"https://colab.research.google.com/github/AlionaPianych/DSL/blob/main/laba_1.ipynb\" target=\"_parent\"><img src=\"https://colab.research.google.com/assets/colab-badge.svg\" alt=\"Open In Colab\"/></a>"
      ]
    },
    {
      "cell_type": "code",
      "source": [
        "import os.path as helper\n",
        "\n",
        "# separator symbols\n",
        "# defined as a set for more efficient check of symbols\n",
        "whitespaces = {' ', '.', ',', '\\n'}\n"
      ],
      "metadata": {
        "id": "1Cjy1sEg4n9K"
      },
      "execution_count": 6,
      "outputs": []
    },
    {
      "cell_type": "code",
      "source": [
        "def parse(separators: set, input_string: str) -> list:\n",
        "    \"\"\"\"\n",
        "    the function processes input string by one symbol\n",
        "\n",
        "    If a separator is encountered,\n",
        "    then the current token is included in the output token list.\n",
        "    Until delimiters are encountered, a new character is added to the current token\n",
        "    \"\"\"\n",
        "    tokens = []\n",
        "    # current could be a list\n",
        "    # for more economical memory consumption\n",
        "    current_token = \"\"\n",
        "\n",
        "    for symbol in input_string:\n",
        "        if symbol in separators:\n",
        "            # next if statement needed for case if the input string\n",
        "            # contains more than one symbol in a row\n",
        "            # from set of WHITESPACES\n",
        "            if len(current_token) != 0:\n",
        "                tokens.append(current_token)\n",
        "                current_token = \"\"\n",
        "        else:\n",
        "            # works like a buffer into which\n",
        "            # any character not found in WHITESPACES\n",
        "            current_token += symbol\n",
        "\n",
        "    # handles the case, when current token exists\n",
        "    if len(current_token) != 0:\n",
        "        tokens.append(current_token)\n",
        "\n",
        "    return tokens"
      ],
      "metadata": {
        "id": "K_rv3u185UTN"
      },
      "execution_count": 7,
      "outputs": []
    },
    {
      "cell_type": "code",
      "source": [
        "if __name__ == '__main__':\n",
        "    text = \" I live in Kharkiv.  \"\n",
        "\n",
        "    correctly_slitted_text = text.split()\n",
        "    output_list = parse(whitespaces, text)\n",
        "    print(output_list)"
      ],
      "metadata": {
        "colab": {
          "base_uri": "https://localhost:8080/"
        },
        "id": "efv2c7ww5WWA",
        "outputId": "5c969499-6059-463e-b95b-59024b0babec"
      },
      "execution_count": 9,
      "outputs": [
        {
          "output_type": "stream",
          "name": "stdout",
          "text": [
            "['I', 'live', 'in', 'Kharkiv']\n"
          ]
        }
      ]
    }
  ]
}